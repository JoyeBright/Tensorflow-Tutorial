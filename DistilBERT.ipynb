{
  "nbformat": 4,
  "nbformat_minor": 0,
  "metadata": {
    "colab": {
      "name": "DistilBERT.ipynb",
      "provenance": [],
      "collapsed_sections": [],
      "authorship_tag": "ABX9TyMVxDfKOQVopYKMs7tJiF+U",
      "include_colab_link": true
    },
    "kernelspec": {
      "name": "python3",
      "display_name": "Python 3"
    }
  },
  "cells": [
    {
      "cell_type": "markdown",
      "metadata": {
        "id": "view-in-github",
        "colab_type": "text"
      },
      "source": [
        "<a href=\"https://colab.research.google.com/github/JoyeBright/Tensorflow-Tutorial/blob/master/DistilBERT.ipynb\" target=\"_parent\"><img src=\"https://colab.research.google.com/assets/colab-badge.svg\" alt=\"Open In Colab\"/></a>"
      ]
    },
    {
      "cell_type": "markdown",
      "metadata": {
        "id": "MA1hs04KfSLu",
        "colab_type": "text"
      },
      "source": [
        "## **Install the distilled version of BERT**"
      ]
    },
    {
      "cell_type": "code",
      "metadata": {
        "id": "_pMjreb9B_Cg",
        "colab_type": "code",
        "colab": {}
      },
      "source": [
        "import warnings\n",
        "warnings.filterwarnings('ignore')"
      ],
      "execution_count": 0,
      "outputs": []
    },
    {
      "cell_type": "code",
      "metadata": {
        "id": "MIk29utHTDHd",
        "colab_type": "code",
        "colab": {
          "base_uri": "https://localhost:8080/",
          "height": 340
        },
        "outputId": "c0a4dc25-1003-48ee-e89a-d6697fc0b81c"
      },
      "source": [
        "!pip install transformers"
      ],
      "execution_count": 2,
      "outputs": [
        {
          "output_type": "stream",
          "text": [
            "Requirement already satisfied: transformers in /usr/local/lib/python3.6/dist-packages (2.11.0)\n",
            "Requirement already satisfied: dataclasses; python_version < \"3.7\" in /usr/local/lib/python3.6/dist-packages (from transformers) (0.7)\n",
            "Requirement already satisfied: tqdm>=4.27 in /usr/local/lib/python3.6/dist-packages (from transformers) (4.41.1)\n",
            "Requirement already satisfied: regex!=2019.12.17 in /usr/local/lib/python3.6/dist-packages (from transformers) (2019.12.20)\n",
            "Requirement already satisfied: filelock in /usr/local/lib/python3.6/dist-packages (from transformers) (3.0.12)\n",
            "Requirement already satisfied: sentencepiece in /usr/local/lib/python3.6/dist-packages (from transformers) (0.1.91)\n",
            "Requirement already satisfied: sacremoses in /usr/local/lib/python3.6/dist-packages (from transformers) (0.0.43)\n",
            "Requirement already satisfied: packaging in /usr/local/lib/python3.6/dist-packages (from transformers) (20.4)\n",
            "Requirement already satisfied: requests in /usr/local/lib/python3.6/dist-packages (from transformers) (2.23.0)\n",
            "Requirement already satisfied: tokenizers==0.7.0 in /usr/local/lib/python3.6/dist-packages (from transformers) (0.7.0)\n",
            "Requirement already satisfied: numpy in /usr/local/lib/python3.6/dist-packages (from transformers) (1.18.4)\n",
            "Requirement already satisfied: click in /usr/local/lib/python3.6/dist-packages (from sacremoses->transformers) (7.1.2)\n",
            "Requirement already satisfied: joblib in /usr/local/lib/python3.6/dist-packages (from sacremoses->transformers) (0.15.1)\n",
            "Requirement already satisfied: six in /usr/local/lib/python3.6/dist-packages (from sacremoses->transformers) (1.12.0)\n",
            "Requirement already satisfied: pyparsing>=2.0.2 in /usr/local/lib/python3.6/dist-packages (from packaging->transformers) (2.4.7)\n",
            "Requirement already satisfied: idna<3,>=2.5 in /usr/local/lib/python3.6/dist-packages (from requests->transformers) (2.9)\n",
            "Requirement already satisfied: certifi>=2017.4.17 in /usr/local/lib/python3.6/dist-packages (from requests->transformers) (2020.4.5.1)\n",
            "Requirement already satisfied: urllib3!=1.25.0,!=1.25.1,<1.26,>=1.21.1 in /usr/local/lib/python3.6/dist-packages (from requests->transformers) (1.24.3)\n",
            "Requirement already satisfied: chardet<4,>=3.0.2 in /usr/local/lib/python3.6/dist-packages (from requests->transformers) (3.0.4)\n"
          ],
          "name": "stdout"
        }
      ]
    },
    {
      "cell_type": "markdown",
      "metadata": {
        "id": "iwpi_Q1Zfis5",
        "colab_type": "text"
      },
      "source": [
        "## **Import Dataset**"
      ]
    },
    {
      "cell_type": "code",
      "metadata": {
        "id": "5XEh6nwsfn3Z",
        "colab_type": "code",
        "colab": {}
      },
      "source": [
        "import numpy as np\n",
        "import pandas as pd"
      ],
      "execution_count": 0,
      "outputs": []
    },
    {
      "cell_type": "code",
      "metadata": {
        "id": "-zUmMPtBkbLF",
        "colab_type": "code",
        "colab": {}
      },
      "source": [
        "df = pd.read_csv('https://github.com/clairett/pytorch-sentiment-classification/raw/master/data/SST2/train.tsv', delimiter='\\t', header=None)"
      ],
      "execution_count": 0,
      "outputs": []
    },
    {
      "cell_type": "code",
      "metadata": {
        "id": "MyOD4Irofvc9",
        "colab_type": "code",
        "colab": {
          "base_uri": "https://localhost:8080/",
          "height": 204
        },
        "outputId": "ee8a91da-0cf0-41f6-ff69-99edd4dd6e42"
      },
      "source": [
        "df.head(5)"
      ],
      "execution_count": 5,
      "outputs": [
        {
          "output_type": "execute_result",
          "data": {
            "text/html": [
              "<div>\n",
              "<style scoped>\n",
              "    .dataframe tbody tr th:only-of-type {\n",
              "        vertical-align: middle;\n",
              "    }\n",
              "\n",
              "    .dataframe tbody tr th {\n",
              "        vertical-align: top;\n",
              "    }\n",
              "\n",
              "    .dataframe thead th {\n",
              "        text-align: right;\n",
              "    }\n",
              "</style>\n",
              "<table border=\"1\" class=\"dataframe\">\n",
              "  <thead>\n",
              "    <tr style=\"text-align: right;\">\n",
              "      <th></th>\n",
              "      <th>0</th>\n",
              "      <th>1</th>\n",
              "    </tr>\n",
              "  </thead>\n",
              "  <tbody>\n",
              "    <tr>\n",
              "      <th>0</th>\n",
              "      <td>a stirring , funny and finally transporting re...</td>\n",
              "      <td>1</td>\n",
              "    </tr>\n",
              "    <tr>\n",
              "      <th>1</th>\n",
              "      <td>apparently reassembled from the cutting room f...</td>\n",
              "      <td>0</td>\n",
              "    </tr>\n",
              "    <tr>\n",
              "      <th>2</th>\n",
              "      <td>they presume their audience wo n't sit still f...</td>\n",
              "      <td>0</td>\n",
              "    </tr>\n",
              "    <tr>\n",
              "      <th>3</th>\n",
              "      <td>this is a visually stunning rumination on love...</td>\n",
              "      <td>1</td>\n",
              "    </tr>\n",
              "    <tr>\n",
              "      <th>4</th>\n",
              "      <td>jonathan parker 's bartleby should have been t...</td>\n",
              "      <td>1</td>\n",
              "    </tr>\n",
              "  </tbody>\n",
              "</table>\n",
              "</div>"
            ],
            "text/plain": [
              "                                                   0  1\n",
              "0  a stirring , funny and finally transporting re...  1\n",
              "1  apparently reassembled from the cutting room f...  0\n",
              "2  they presume their audience wo n't sit still f...  0\n",
              "3  this is a visually stunning rumination on love...  1\n",
              "4  jonathan parker 's bartleby should have been t...  1"
            ]
          },
          "metadata": {
            "tags": []
          },
          "execution_count": 5
        }
      ]
    },
    {
      "cell_type": "code",
      "metadata": {
        "id": "x9EErnNXfvYJ",
        "colab_type": "code",
        "colab": {}
      },
      "source": [
        "mini_batch = df[:2000]"
      ],
      "execution_count": 0,
      "outputs": []
    },
    {
      "cell_type": "code",
      "metadata": {
        "id": "zuerrVIEgD_G",
        "colab_type": "code",
        "colab": {
          "base_uri": "https://localhost:8080/",
          "height": 34
        },
        "outputId": "e5644468-a3b5-4728-a90d-60cbc33fb282"
      },
      "source": [
        "print(mini_batch.shape)"
      ],
      "execution_count": 7,
      "outputs": [
        {
          "output_type": "stream",
          "text": [
            "(2000, 2)\n"
          ],
          "name": "stdout"
        }
      ]
    },
    {
      "cell_type": "markdown",
      "metadata": {
        "id": "iUOLfRURgRS9",
        "colab_type": "text"
      },
      "source": [
        "**Number of negative or positive sentences in the selected**"
      ]
    },
    {
      "cell_type": "code",
      "metadata": {
        "id": "6pDHRPVHgJhJ",
        "colab_type": "code",
        "colab": {
          "base_uri": "https://localhost:8080/",
          "height": 68
        },
        "outputId": "bc4a269d-a8b8-4b02-f7e6-21068bc8e5d1"
      },
      "source": [
        "mini_batch[1].value_counts()"
      ],
      "execution_count": 8,
      "outputs": [
        {
          "output_type": "execute_result",
          "data": {
            "text/plain": [
              "1    1041\n",
              "0     959\n",
              "Name: 1, dtype: int64"
            ]
          },
          "metadata": {
            "tags": []
          },
          "execution_count": 8
        }
      ]
    },
    {
      "cell_type": "markdown",
      "metadata": {
        "id": "P2Tval0vgk9Q",
        "colab_type": "text"
      },
      "source": [
        "## **Load DistilBERT for English Language**"
      ]
    },
    {
      "cell_type": "code",
      "metadata": {
        "id": "fwM1f8p9m17b",
        "colab_type": "code",
        "colab": {}
      },
      "source": [
        "from transformers import *"
      ],
      "execution_count": 0,
      "outputs": []
    },
    {
      "cell_type": "code",
      "metadata": {
        "id": "HkxKGZX2gjhs",
        "colab_type": "code",
        "colab": {}
      },
      "source": [
        "tokenizer = DistilBertTokenizer.from_pretrained('distilbert-base-cased')"
      ],
      "execution_count": 0,
      "outputs": []
    },
    {
      "cell_type": "code",
      "metadata": {
        "id": "6USF7_-8nBVG",
        "colab_type": "code",
        "colab": {}
      },
      "source": [
        "model = DistilBertModel.from_pretrained('distilbert-base-cased')"
      ],
      "execution_count": 0,
      "outputs": []
    },
    {
      "cell_type": "markdown",
      "metadata": {
        "id": "jLSIRnY3oUVr",
        "colab_type": "text"
      },
      "source": [
        "## **DataSet Preparation**"
      ]
    },
    {
      "cell_type": "code",
      "metadata": {
        "id": "ljEl7I8KosXJ",
        "colab_type": "code",
        "colab": {
          "base_uri": "https://localhost:8080/",
          "height": 221
        },
        "outputId": "b7e930df-7d84-49db-aebe-96ba32cb581f"
      },
      "source": [
        "mini_batch[0] # fetch only sentences"
      ],
      "execution_count": 12,
      "outputs": [
        {
          "output_type": "execute_result",
          "data": {
            "text/plain": [
              "0       a stirring , funny and finally transporting re...\n",
              "1       apparently reassembled from the cutting room f...\n",
              "2       they presume their audience wo n't sit still f...\n",
              "3       this is a visually stunning rumination on love...\n",
              "4       jonathan parker 's bartleby should have been t...\n",
              "                              ...                        \n",
              "1995    too bland and fustily tasteful to be truly pru...\n",
              "1996                           it does n't work as either\n",
              "1997    this one aims for the toilet and scores a dire...\n",
              "1998    in the name of an allegedly inspiring and easi...\n",
              "1999    the movie is undone by a filmmaking methodolog...\n",
              "Name: 0, Length: 2000, dtype: object"
            ]
          },
          "metadata": {
            "tags": []
          },
          "execution_count": 12
        }
      ]
    },
    {
      "cell_type": "markdown",
      "metadata": {
        "id": "ToKNEpE6pS5O",
        "colab_type": "text"
      },
      "source": [
        "# **Tokenize each sentence in the database**"
      ]
    },
    {
      "cell_type": "code",
      "metadata": {
        "id": "82yLO1bfoXit",
        "colab_type": "code",
        "colab": {}
      },
      "source": [
        "tokens = mini_batch[0].apply((lambda x: tokenizer.encode(x, add_special_tokens=True)))"
      ],
      "execution_count": 0,
      "outputs": []
    },
    {
      "cell_type": "markdown",
      "metadata": {
        "id": "3ZGxCAo8plzu",
        "colab_type": "text"
      },
      "source": [
        "***The tokenizer method first splits the sentences using Wordpeice, then embeds [CLS] and [SEP] tokens and finally replace each token with their corresponding ID.***"
      ]
    },
    {
      "cell_type": "code",
      "metadata": {
        "id": "CwRH9a8IpdZv",
        "colab_type": "code",
        "colab": {
          "base_uri": "https://localhost:8080/",
          "height": 119
        },
        "outputId": "3f67a4f9-48c4-4be3-cea3-a29ca03c9eeb"
      },
      "source": [
        "tokens.head(5)"
      ],
      "execution_count": 14,
      "outputs": [
        {
          "output_type": "execute_result",
          "data": {
            "text/plain": [
              "0    [101, 170, 20329, 117, 6276, 1105, 1921, 19920...\n",
              "1    [101, 4547, 1231, 11192, 5521, 11813, 1121, 11...\n",
              "2    [101, 1152, 3073, 22369, 1147, 3703, 192, 1186...\n",
              "3    [101, 1142, 1110, 170, 19924, 15660, 187, 1408...\n",
              "4    [101, 179, 7637, 22252, 2493, 1200, 112, 188, ...\n",
              "Name: 0, dtype: object"
            ]
          },
          "metadata": {
            "tags": []
          },
          "execution_count": 14
        }
      ]
    },
    {
      "cell_type": "markdown",
      "metadata": {
        "id": "ampBsJWbq3CT",
        "colab_type": "text"
      },
      "source": [
        "### **Padding our sentences with the same length**"
      ]
    },
    {
      "cell_type": "code",
      "metadata": {
        "id": "i-GD4QAQrCYL",
        "colab_type": "code",
        "colab": {
          "base_uri": "https://localhost:8080/",
          "height": 34
        },
        "outputId": "f1b1e4e3-cbf7-41fd-e242-23e085d2364f"
      },
      "source": [
        "# This is the max length in the dataset\n",
        "max_length=0\n",
        "for i in tokens.values:\n",
        "  if(len(i))>max_length:\n",
        "    max_length = len(i)\n",
        "\n",
        "print(max_length)  "
      ],
      "execution_count": 15,
      "outputs": [
        {
          "output_type": "stream",
          "text": [
            "66\n"
          ],
          "name": "stdout"
        }
      ]
    },
    {
      "cell_type": "code",
      "metadata": {
        "id": "JMlfQmDmr7Ob",
        "colab_type": "code",
        "colab": {}
      },
      "source": [
        "padded_rows = np.array([i + [0]*(max_length-len(i)) for i in tokens.values])"
      ],
      "execution_count": 0,
      "outputs": []
    },
    {
      "cell_type": "code",
      "metadata": {
        "id": "a6FJM7OAtk3F",
        "colab_type": "code",
        "colab": {
          "base_uri": "https://localhost:8080/",
          "height": 238
        },
        "outputId": "399c6b9c-ae61-414e-deac-0819c57406ad"
      },
      "source": [
        "print(padded_rows.shape)\n",
        "print(padded_rows[:2]) # Now all rows have 66 tokens"
      ],
      "execution_count": 17,
      "outputs": [
        {
          "output_type": "stream",
          "text": [
            "(2000, 66)\n",
            "[[  101   170 20329   117  6276  1105  1921 19920  1231 18632  1104  5295\n",
            "   1105  1103  8839  1105  4970  5367  2441   102     0     0     0     0\n",
            "      0     0     0     0     0     0     0     0     0     0     0     0\n",
            "      0     0     0     0     0     0     0     0     0     0     0     0\n",
            "      0     0     0     0     0     0     0     0     0     0     0     0\n",
            "      0     0     0     0     0     0]\n",
            " [  101  4547  1231 11192  5521 11813  1121  1103  5910  1395  1837  1104\n",
            "   1251  1549 14907  8439   102     0     0     0     0     0     0     0\n",
            "      0     0     0     0     0     0     0     0     0     0     0     0\n",
            "      0     0     0     0     0     0     0     0     0     0     0     0\n",
            "      0     0     0     0     0     0     0     0     0     0     0     0\n",
            "      0     0     0     0     0     0]]\n"
          ],
          "name": "stdout"
        }
      ]
    },
    {
      "cell_type": "markdown",
      "metadata": {
        "id": "A8CDfIoft6Wf",
        "colab_type": "text"
      },
      "source": [
        "## **Masking the words**"
      ]
    },
    {
      "cell_type": "code",
      "metadata": {
        "id": "o2OCFp3St5wg",
        "colab_type": "code",
        "colab": {}
      },
      "source": [
        "# Ignoring the padding\n",
        "\"In order to mask the tokens, we should not mask those fake tokens which created for padding purposes\"\n",
        "\"So first check with a condition where if they are not equal to 0, they will select for masking Language Model\"\n",
        "\"Otherwise replace them with zeros\"\n",
        "attention_mask = np.where(padded_rows != 0 , 1, 0)"
      ],
      "execution_count": 0,
      "outputs": []
    },
    {
      "cell_type": "code",
      "metadata": {
        "id": "U2rZfbG2xu_C",
        "colab_type": "code",
        "colab": {
          "base_uri": "https://localhost:8080/",
          "height": 34
        },
        "outputId": "fca45e2f-a388-4205-d875-c7f4f99be754"
      },
      "source": [
        "print(attention_mask.shape)"
      ],
      "execution_count": 19,
      "outputs": [
        {
          "output_type": "stream",
          "text": [
            "(2000, 66)\n"
          ],
          "name": "stdout"
        }
      ]
    },
    {
      "cell_type": "markdown",
      "metadata": {
        "id": "BnF4bKmnzToj",
        "colab_type": "text"
      },
      "source": [
        "## **Feed to DistilBERT**"
      ]
    },
    {
      "cell_type": "code",
      "metadata": {
        "id": "ypAU4h8e31UX",
        "colab_type": "code",
        "colab": {}
      },
      "source": [
        "import torch"
      ],
      "execution_count": 0,
      "outputs": []
    },
    {
      "cell_type": "code",
      "metadata": {
        "id": "T6_RB2KG3i2L",
        "colab_type": "code",
        "colab": {}
      },
      "source": [
        "input_ids = torch.tensor(padded_rows)\n",
        "attention_mask = torch.tensor(attention_mask)\n",
        "with torch.no_grad():\n",
        "  last_hidden_states = model(input_ids, attention_mask=attention_mask)"
      ],
      "execution_count": 0,
      "outputs": []
    },
    {
      "cell_type": "code",
      "metadata": {
        "id": "MtaqLoY859MJ",
        "colab_type": "code",
        "colab": {
          "base_uri": "https://localhost:8080/",
          "height": 34
        },
        "outputId": "c1495637-e998-493e-8218-82f8cbf24443"
      },
      "source": [
        "print(last_hidden_states[0].shape)"
      ],
      "execution_count": 22,
      "outputs": [
        {
          "output_type": "stream",
          "text": [
            "torch.Size([2000, 66, 768])\n"
          ],
          "name": "stdout"
        }
      ]
    },
    {
      "cell_type": "markdown",
      "metadata": {
        "id": "SiADsGYD70kS",
        "colab_type": "text"
      },
      "source": [
        "***2000 rows per sequences, 66 tokens in each sentence, 768 hidden units***"
      ]
    },
    {
      "cell_type": "markdown",
      "metadata": {
        "id": "Wwq2AzyP8UUN",
        "colab_type": "text"
      },
      "source": [
        "* Because we are doing text classification, we only need CLS token (first hidden neuron connected to each sequences)"
      ]
    },
    {
      "cell_type": "code",
      "metadata": {
        "id": "xzLwsz0D8Dt9",
        "colab_type": "code",
        "colab": {
          "base_uri": "https://localhost:8080/",
          "height": 34
        },
        "outputId": "c497ad81-06b8-43ab-a6bf-5502355c2244"
      },
      "source": [
        "features = last_hidden_states[0][:, 0, :].numpy()\n",
        "print(features.shape)"
      ],
      "execution_count": 23,
      "outputs": [
        {
          "output_type": "stream",
          "text": [
            "(2000, 768)\n"
          ],
          "name": "stdout"
        }
      ]
    },
    {
      "cell_type": "markdown",
      "metadata": {
        "id": "WbisZjPe_sh0",
        "colab_type": "text"
      },
      "source": [
        "## ***Time to work on the 2nd Model***"
      ]
    },
    {
      "cell_type": "code",
      "metadata": {
        "id": "Sc-GKP-F_qZm",
        "colab_type": "code",
        "colab": {}
      },
      "source": [
        "from sklearn.model_selection import train_test_split\n",
        "labels = mini_batch[1]\n",
        "train_features, test_features, train_labels, test_labels = train_test_split(features, labels)"
      ],
      "execution_count": 0,
      "outputs": []
    },
    {
      "cell_type": "markdown",
      "metadata": {
        "id": "Ebl3_5BsAgTP",
        "colab_type": "text"
      },
      "source": [
        "## **Logistic Regression**"
      ]
    },
    {
      "cell_type": "code",
      "metadata": {
        "id": "iNQwvlZBAb6D",
        "colab_type": "code",
        "colab": {
          "base_uri": "https://localhost:8080/",
          "height": 102
        },
        "outputId": "98fe455e-4dc9-4d30-ebe5-a60dfa9a0628"
      },
      "source": [
        "from sklearn.linear_model import LogisticRegression\n",
        "lr_clf = LogisticRegression()\n",
        "lr_clf.fit(train_features, train_labels)"
      ],
      "execution_count": 25,
      "outputs": [
        {
          "output_type": "execute_result",
          "data": {
            "text/plain": [
              "LogisticRegression(C=1.0, class_weight=None, dual=False, fit_intercept=True,\n",
              "                   intercept_scaling=1, l1_ratio=None, max_iter=100,\n",
              "                   multi_class='auto', n_jobs=None, penalty='l2',\n",
              "                   random_state=None, solver='lbfgs', tol=0.0001, verbose=0,\n",
              "                   warm_start=False)"
            ]
          },
          "metadata": {
            "tags": []
          },
          "execution_count": 25
        }
      ]
    },
    {
      "cell_type": "markdown",
      "metadata": {
        "id": "0NwVvXE5A4ZF",
        "colab_type": "text"
      },
      "source": [
        "## **LR Accuracy after using DistilBERT**"
      ]
    },
    {
      "cell_type": "code",
      "metadata": {
        "id": "nWu6mcLGAvl6",
        "colab_type": "code",
        "colab": {}
      },
      "source": [
        "from sklearn.model_selection import cross_val_score"
      ],
      "execution_count": 0,
      "outputs": []
    },
    {
      "cell_type": "code",
      "metadata": {
        "id": "Y2ZD6NwQA_AJ",
        "colab_type": "code",
        "colab": {
          "base_uri": "https://localhost:8080/",
          "height": 34
        },
        "outputId": "182d2057-e8be-4149-f536-4280881df012"
      },
      "source": [
        "lr_clf.score(test_features, test_labels)"
      ],
      "execution_count": 27,
      "outputs": [
        {
          "output_type": "execute_result",
          "data": {
            "text/plain": [
              "0.826"
            ]
          },
          "metadata": {
            "tags": []
          },
          "execution_count": 27
        }
      ]
    },
    {
      "cell_type": "markdown",
      "metadata": {
        "id": "yRNoYObJBrhJ",
        "colab_type": "text"
      },
      "source": [
        "### **Dummy Classifier as a Baseline**"
      ]
    },
    {
      "cell_type": "code",
      "metadata": {
        "id": "vI_ES3fOBuF0",
        "colab_type": "code",
        "colab": {
          "base_uri": "https://localhost:8080/",
          "height": 34
        },
        "outputId": "3da82ec9-6fef-43ca-a5eb-ea73f7c14087"
      },
      "source": [
        "from sklearn.dummy import DummyClassifier\n",
        "clf = DummyClassifier()\n",
        "\n",
        "scores = cross_val_score(clf, train_features, train_labels)\n",
        "print(scores.mean())"
      ],
      "execution_count": 28,
      "outputs": [
        {
          "output_type": "stream",
          "text": [
            "0.48600000000000004\n"
          ],
          "name": "stdout"
        }
      ]
    }
  ]
}