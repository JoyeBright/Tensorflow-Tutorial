{
  "nbformat": 4,
  "nbformat_minor": 0,
  "metadata": {
    "colab": {
      "name": "Celsius_To_Fahrenheit.ipynb",
      "provenance": [],
      "collapsed_sections": [],
      "authorship_tag": "ABX9TyO0asNUJy40SM9yt1iExHrR",
      "include_colab_link": true
    },
    "kernelspec": {
      "name": "python3",
      "display_name": "Python 3"
    }
  },
  "cells": [
    {
      "cell_type": "markdown",
      "metadata": {
        "id": "view-in-github",
        "colab_type": "text"
      },
      "source": [
        "<a href=\"https://colab.research.google.com/github/JoyeBright/Tensorflow-Tutorial/blob/master/Celsius_To_Fahrenheit.ipynb\" target=\"_parent\"><img src=\"https://colab.research.google.com/assets/colab-badge.svg\" alt=\"Open In Colab\"/></a>"
      ]
    },
    {
      "cell_type": "markdown",
      "metadata": {
        "id": "uqmlvOpSYazL",
        "colab_type": "text"
      },
      "source": [
        "Finding a hypothesis function for converting Celsius to Fahrenheit, where the approximate formula is:\n",
        "\n",
        "$$ f = c \\times 1.8 + 32 $$"
      ]
    },
    {
      "cell_type": "code",
      "metadata": {
        "id": "sh2WqCauWV6k",
        "colab_type": "code",
        "colab": {}
      },
      "source": [
        "import tensorflow as tf"
      ],
      "execution_count": 0,
      "outputs": []
    },
    {
      "cell_type": "code",
      "metadata": {
        "id": "7p9lsNbEYhzg",
        "colab_type": "code",
        "colab": {}
      },
      "source": [
        "import numpy as np\n",
        "import logging"
      ],
      "execution_count": 0,
      "outputs": []
    },
    {
      "cell_type": "code",
      "metadata": {
        "id": "GLpUX-SmYqSy",
        "colab_type": "code",
        "colab": {
          "base_uri": "https://localhost:8080/",
          "height": 153
        },
        "outputId": "07e0fe6d-6077-4c96-bb2c-9df267cf522d"
      },
      "source": [
        "celsius_q = np.array([-40, -10, 0, 8, 15, 22, 38, 90])\n",
        "fahrenheit_a = np.array([-40, 14, 32, 46, 59, 72, 100, 194])\n",
        "\n",
        "for c, f in enumerate(celsius_q):\n",
        "  print(\"{} degrees Celsius = {} degrees Fahrenheit\".format(f, fahrenheit_a[c]))\n",
        "\n"
      ],
      "execution_count": 21,
      "outputs": [
        {
          "output_type": "stream",
          "text": [
            "-40 degrees Celsius = -40 degrees Fahrenheit\n",
            "-10 degrees Celsius = 14 degrees Fahrenheit\n",
            "0 degrees Celsius = 32 degrees Fahrenheit\n",
            "8 degrees Celsius = 46 degrees Fahrenheit\n",
            "15 degrees Celsius = 59 degrees Fahrenheit\n",
            "22 degrees Celsius = 72 degrees Fahrenheit\n",
            "38 degrees Celsius = 100 degrees Fahrenheit\n",
            "90 degrees Celsius = 194 degrees Fahrenheit\n"
          ],
          "name": "stdout"
        }
      ]
    },
    {
      "cell_type": "code",
      "metadata": {
        "id": "jChDw866dKCx",
        "colab_type": "code",
        "colab": {}
      },
      "source": [
        "layer0 = tf.keras.layers.Dense(units=1, input_shape=[1])"
      ],
      "execution_count": 0,
      "outputs": []
    },
    {
      "cell_type": "code",
      "metadata": {
        "id": "3KMlEGG5didE",
        "colab_type": "code",
        "colab": {}
      },
      "source": [
        "model = tf.keras.Sequential([layer0])"
      ],
      "execution_count": 0,
      "outputs": []
    },
    {
      "cell_type": "code",
      "metadata": {
        "id": "4en-yvmddq-m",
        "colab_type": "code",
        "colab": {}
      },
      "source": [
        "model.compile(loss='mean_squared_error', optimizer=tf.keras.optimizers.Adam(0.1))"
      ],
      "execution_count": 0,
      "outputs": []
    },
    {
      "cell_type": "code",
      "metadata": {
        "id": "tGwyytTveKFa",
        "colab_type": "code",
        "colab": {
          "base_uri": "https://localhost:8080/",
          "height": 34
        },
        "outputId": "5e085d88-1d71-4cb8-e90a-8c80b2430532"
      },
      "source": [
        "history = model.fit(celsius_q, fahrenheit_a, epochs=500, verbose=False)\n",
        "print(\"Training Done!\")"
      ],
      "execution_count": 26,
      "outputs": [
        {
          "output_type": "stream",
          "text": [
            "Training Done!\n"
          ],
          "name": "stdout"
        }
      ]
    },
    {
      "cell_type": "code",
      "metadata": {
        "id": "mwyjDQ7aejDG",
        "colab_type": "code",
        "colab": {
          "base_uri": "https://localhost:8080/",
          "height": 296
        },
        "outputId": "8ac9d0b8-31e4-452f-d18a-cb223ea376e7"
      },
      "source": [
        "import matplotlib.pyplot as plt\n",
        "plt.xlabel(\"Epoch Number\")\n",
        "plt.ylabel(\"Loss Value\")\n",
        "plt.plot(history.history['loss'])"
      ],
      "execution_count": 27,
      "outputs": [
        {
          "output_type": "execute_result",
          "data": {
            "text/plain": [
              "[<matplotlib.lines.Line2D at 0x7f5af9176da0>]"
            ]
          },
          "metadata": {
            "tags": []
          },
          "execution_count": 27
        },
        {
          "output_type": "display_data",
          "data": {
            "image/png": "[encoded data removed]",
            "text/plain": [
              "<Figure size 432x288 with 1 Axes>"
            ]
          },
          "metadata": {
            "tags": [],
            "needs_background": "light"
          }
        }
      ]
    },
    {
      "cell_type": "code",
      "metadata": {
        "id": "QuIobSw9e382",
        "colab_type": "code",
        "colab": {
          "base_uri": "https://localhost:8080/",
          "height": 34
        },
        "outputId": "b5225bf5-d40c-4ecf-c41f-03c8e1cd82d8"
      },
      "source": [
        "print(model.predict([100])) # the actual value should be 212"
      ],
      "execution_count": 28,
      "outputs": [
        {
          "output_type": "stream",
          "text": [
            "[[211.99619]]\n"
          ],
          "name": "stdout"
        }
      ]
    },
    {
      "cell_type": "code",
      "metadata": {
        "id": "fpq0ko_-gjK6",
        "colab_type": "code",
        "colab": {
          "base_uri": "https://localhost:8080/",
          "height": 34
        },
        "outputId": "4c18d765-2101-402a-bfd5-66175879af26"
      },
      "source": [
        "print(\"First layer weights: {}\".format(layer0.get_weights())) # Not exact but approximated"
      ],
      "execution_count": 30,
      "outputs": [
        {
          "output_type": "stream",
          "text": [
            "First layer weights: [array([[1.8279533]], dtype=float32), array([29.20086], dtype=float32)]\n"
          ],
          "name": "stdout"
        }
      ]
    }
  ]
}