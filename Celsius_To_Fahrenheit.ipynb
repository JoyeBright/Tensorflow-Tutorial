{
  "nbformat": 4,
  "nbformat_minor": 0,
  "metadata": {
    "colab": {
      "name": "Celsius_To_Fahrenheit.ipynb",
      "provenance": [],
      "collapsed_sections": [],
      "authorship_tag": "ABX9TyPHCXiFviSzqkIoGpPnVfkb",
      "include_colab_link": true
    },
    "kernelspec": {
      "name": "python3",
      "display_name": "Python 3"
    }
  },
  "cells": [
    {
      "cell_type": "markdown",
      "metadata": {
        "id": "view-in-github",
        "colab_type": "text"
      },
      "source": [
        "<a href=\"https://colab.research.google.com/github/JoyeBright/Tensorflow-Tutorial/blob/master/Celsius_To_Fahrenheit.ipynb\" target=\"_parent\"><img src=\"https://colab.research.google.com/assets/colab-badge.svg\" alt=\"Open In Colab\"/></a>"
      ]
    },
    {
      "cell_type": "markdown",
      "metadata": {
        "id": "uqmlvOpSYazL"
      },
      "source": [
        "Finding a hypothesis function for converting Celsius to Fahrenheit, where the approximate formula is:\n",
        "\n",
        "$$ f = c \\times 1.8 + 32 $$"
      ]
    },
    {
      "cell_type": "code",
      "metadata": {
        "id": "sh2WqCauWV6k"
      },
      "source": [
        "import tensorflow as tf"
      ],
      "execution_count": null,
      "outputs": []
    },
    {
      "cell_type": "code",
      "metadata": {
        "id": "7p9lsNbEYhzg"
      },
      "source": [
        "import numpy as np\n",
        "import logging"
      ],
      "execution_count": null,
      "outputs": []
    },
    {
      "cell_type": "code",
      "metadata": {
        "id": "GLpUX-SmYqSy",
        "colab": {
          "base_uri": "https://localhost:8080/"
        },
        "outputId": "b802dcef-6b3a-4071-977d-17fa524bf1ed"
      },
      "source": [
        "celsius_q = np.array([-40, -10, 0, 8, 15, 22, 38, 90])\n",
        "fahrenheit_a = np.array([-40, 14, 32, 46, 59, 72, 100, 194])\n",
        "\n",
        "for c, f in enumerate(celsius_q):\n",
        "  print(\"{} degrees Celsius = {} degrees Fahrenheit\".format(f, fahrenheit_a[c]))\n",
        "\n"
      ],
      "execution_count": null,
      "outputs": [
        {
          "output_type": "stream",
          "text": [
            "-40 degrees Celsius = -40 degrees Fahrenheit\n",
            "-10 degrees Celsius = 14 degrees Fahrenheit\n",
            "0 degrees Celsius = 32 degrees Fahrenheit\n",
            "8 degrees Celsius = 46 degrees Fahrenheit\n",
            "15 degrees Celsius = 59 degrees Fahrenheit\n",
            "22 degrees Celsius = 72 degrees Fahrenheit\n",
            "38 degrees Celsius = 100 degrees Fahrenheit\n",
            "90 degrees Celsius = 194 degrees Fahrenheit\n"
          ],
          "name": "stdout"
        }
      ]
    },
    {
      "cell_type": "code",
      "metadata": {
        "id": "jChDw866dKCx"
      },
      "source": [
        "# A dense layer means a fully connected layer\n",
        "# For Dense layer:\n",
        "# output_size * (input_size + 1) == number_parameters \n",
        "# For Conv layer:\n",
        "# output_channels * (input_channels * window_size + 1) == number_parameters\n",
        "\n",
        "layer0 = tf.keras.layers.Dense(units=1, input_shape=[1])"
      ],
      "execution_count": null,
      "outputs": []
    },
    {
      "cell_type": "code",
      "metadata": {
        "id": "3KMlEGG5didE"
      },
      "source": [
        "model = tf.keras.Sequential([layer0])"
      ],
      "execution_count": null,
      "outputs": []
    },
    {
      "cell_type": "code",
      "metadata": {
        "id": "rXwGYS_T2PDn",
        "colab": {
          "base_uri": "https://localhost:8080/"
        },
        "outputId": "a248b523-9f91-4ae7-f902-e1b43d303c01"
      },
      "source": [
        "model.summary()"
      ],
      "execution_count": null,
      "outputs": [
        {
          "output_type": "stream",
          "text": [
            "Model: \"sequential\"\n",
            "_________________________________________________________________\n",
            "Layer (type)                 Output Shape              Param #   \n",
            "=================================================================\n",
            "dense (Dense)                (None, 1)                 2         \n",
            "=================================================================\n",
            "Total params: 2\n",
            "Trainable params: 2\n",
            "Non-trainable params: 0\n",
            "_________________________________________________________________\n"
          ],
          "name": "stdout"
        }
      ]
    },
    {
      "cell_type": "code",
      "metadata": {
        "id": "4en-yvmddq-m"
      },
      "source": [
        "model.compile(loss='mean_squared_error', optimizer=tf.keras.optimizers.Adam(0.1))"
      ],
      "execution_count": null,
      "outputs": []
    },
    {
      "cell_type": "code",
      "metadata": {
        "id": "tGwyytTveKFa",
        "colab": {
          "base_uri": "https://localhost:8080/"
        },
        "outputId": "f61d4b88-f3d0-4153-81a8-195f7d1fa8f9"
      },
      "source": [
        "history = model.fit(celsius_q, fahrenheit_a, epochs=500, verbose=False)\n",
        "print(\"Training Done!\")"
      ],
      "execution_count": null,
      "outputs": [
        {
          "output_type": "stream",
          "text": [
            "Training Done!\n"
          ],
          "name": "stdout"
        }
      ]
    },
    {
      "cell_type": "code",
      "metadata": {
        "id": "mwyjDQ7aejDG",
        "colab": {
          "base_uri": "https://localhost:8080/",
          "height": 296
        },
        "outputId": "9c79b2af-f165-4eae-82fd-6801a5608bcf"
      },
      "source": [
        "import matplotlib.pyplot as plt\n",
        "plt.xlabel(\"Epoch Number\")\n",
        "plt.ylabel(\"Loss Value\")\n",
        "plt.plot(history.history['loss'])"
      ],
      "execution_count": null,
      "outputs": [
        {
          "output_type": "execute_result",
          "data": {
            "text/plain": [
              "[<matplotlib.lines.Line2D at 0x7f65794d5b70>]"
            ]
          },
          "metadata": {
            "tags": []
          },
          "execution_count": 9
        },
        {
          "output_type": "display_data",
          "data": {
            "image/png": "[encoded data removed]",
            "text/plain": [
              "<Figure size 432x288 with 1 Axes>"
            ]
          },
          "metadata": {
            "tags": [],
            "needs_background": "light"
          }
        }
      ]
    },
    {
      "cell_type": "code",
      "metadata": {
        "id": "QuIobSw9e382",
        "colab": {
          "base_uri": "https://localhost:8080/"
        },
        "outputId": "745cd1c1-eb88-4c94-c2d8-cc4625704e06"
      },
      "source": [
        "print(model.predict([100])) # the actual value should be 212"
      ],
      "execution_count": null,
      "outputs": [
        {
          "output_type": "stream",
          "text": [
            "[[212.21152]]\n"
          ],
          "name": "stdout"
        }
      ]
    },
    {
      "cell_type": "code",
      "metadata": {
        "id": "fpq0ko_-gjK6",
        "colab": {
          "base_uri": "https://localhost:8080/"
        },
        "outputId": "314002cd-44ba-4871-f65d-d0be6ce08215"
      },
      "source": [
        "print(\"First layer weights: {}\".format(layer0.get_weights())) # Not exact but approximated"
      ],
      "execution_count": null,
      "outputs": [
        {
          "output_type": "stream",
          "text": [
            "First layer weights: [array([[1.8651855]], dtype=float32), array([25.69297], dtype=float32)]\n"
          ],
          "name": "stdout"
        }
      ]
    }
  ]
}